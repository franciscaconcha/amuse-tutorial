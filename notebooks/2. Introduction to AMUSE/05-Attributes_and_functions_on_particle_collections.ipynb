{
 "cells": [
  {
   "cell_type": "code",
   "execution_count": 1,
   "metadata": {},
   "outputs": [],
   "source": [
    "from __future__ import print_function, division\n",
    "%matplotlib inline\n",
    "from matplotlib import pyplot\n",
    "import numpy"
   ]
  },
  {
   "cell_type": "markdown",
   "metadata": {},
   "source": [
    "AMUSE pre-defines a number of calculcated attributes on particle sets, such as the kinetic energy of the particles in the set. These calculated attributes are used often and provide a sufficient set to start out with, but they do not define a *complete* set. It's possible to define your own attributes and extend the attributes on a particle set."
   ]
  },
  {
   "cell_type": "code",
   "execution_count": 2,
   "metadata": {},
   "outputs": [],
   "source": [
    "from amuse.ic.kingmodel import new_king_model\n",
    "from amuse.units import nbody_system"
   ]
  },
  {
   "cell_type": "markdown",
   "metadata": {},
   "source": [
    "As shown in the previous example, you can create a particle set by specifying the number of particles and setting their attributes. You can also create a particle set by using an inital condition function. For stellar clusters the commonly used plummer and king models are available. For this tutorial we will start with a king model. Global clusters created with a king model need the number of stars in the cluster and a dimensionless depth parameter that determines the depth of the potential well in the center of the cluster."
   ]
  },
  {
   "cell_type": "code",
   "execution_count": 3,
   "metadata": {},
   "outputs": [
    {
     "name": "stdout",
     "output_type": "stream",
     "text": [
      "                 key         mass       radius           vx           vy           vz            x            y            z\n",
      "                   -         mass       length  length / time  length / time  length / time       length       length       length\n",
      "====================  ===========  ===========  ===========  ===========  ===========  ===========  ===========  ===========\n",
      "16152840208084452440    1.000e-03    0.000e+00   -2.839e-01    3.127e-01    4.290e-01   -6.924e-01   -8.056e-01   -1.037e+00\n",
      "14431881290045695356    1.000e-03    0.000e+00   -1.766e-01    1.722e-02   -5.473e-01   -1.608e-01    2.406e-01   -6.052e-01\n",
      "11587877815567512489    1.000e-03    0.000e+00    5.826e-01   -4.158e-01    5.093e-01   -3.430e-01    4.329e-02    6.916e-01\n",
      " 6105450060604620649    1.000e-03    0.000e+00   -2.974e-01   -2.402e-01    6.086e-01    1.057e+00    1.026e+00   -7.428e-02\n",
      "10568920569270638365    1.000e-03    0.000e+00   -4.624e-01    4.292e-01   -1.580e-01    2.631e-01    8.663e-01   -5.302e-01\n",
      "10038342143038379195    1.000e-03    0.000e+00   -2.996e-01    7.998e-02   -3.165e-01    1.562e-01   -2.269e-01    6.025e-01\n",
      "16946510278236654716    1.000e-03    0.000e+00   -2.198e-01   -1.433e-01   -5.483e-01   -1.227e+00   -2.598e-01    2.643e-01\n",
      " 7164101409539071608    1.000e-03    0.000e+00   -6.463e-02   -5.074e-01    2.039e-01   -5.489e-01    1.294e-01   -7.552e-01\n",
      "16967121879395972844    1.000e-03    0.000e+00   -4.642e-01    1.354e-01   -3.058e-01    2.306e-01    2.698e-01    1.180e+00\n",
      "  115816106128576480    1.000e-03    0.000e+00    6.330e-01    1.090e+00   -1.116e-01   -6.041e-02   -3.013e-01    4.746e-01\n",
      " 7386274548439816099    1.000e-03    0.000e+00    3.396e-01    5.862e-01    6.631e-01   -2.751e-01    5.617e-01   -2.676e-01\n",
      " 5773294551413198076    1.000e-03    0.000e+00   -3.122e-01    5.758e-01    4.755e-02    2.034e-01    9.523e-01   -6.173e-01\n",
      " 2050013440688537269    1.000e-03    0.000e+00    2.496e-01    1.134e-01   -2.016e-01    3.009e-01    2.274e+00   -3.817e-01\n",
      " 3706793023252537862    1.000e-03    0.000e+00   -1.892e-01    4.396e-01    2.973e-01    9.160e-01    3.715e-01   -7.826e-01\n",
      " 1710407575981155450    1.000e-03    0.000e+00    1.958e-01    3.975e-01    3.096e-01    2.618e-02    4.769e-01    6.261e-01\n",
      "13968613189702520745    1.000e-03    0.000e+00   -2.297e-01   -2.165e-01    2.597e-01    5.626e-02    9.145e-01    3.001e-01\n",
      "16528844250755101293    1.000e-03    0.000e+00    2.286e-01   -5.544e-02    7.789e-01    5.461e-01   -1.068e-01    6.783e-02\n",
      "16839445086928335320    1.000e-03    0.000e+00   -3.075e-01    3.829e-01   -3.307e-01   -1.288e-01   -5.059e-01   -5.341e-01\n",
      "10777598174059723702    1.000e-03    0.000e+00   -3.263e-01    5.577e-01   -8.227e-02   -9.525e-01   -2.172e-01    2.563e-01\n",
      "12210690185050920130    1.000e-03    0.000e+00    3.676e-01   -7.935e-01    5.463e-01    3.582e-01    1.393e-01   -5.565e-01\n",
      "                 ...          ...          ...          ...          ...          ...          ...          ...          ...\n",
      " 1106315863652087732    1.000e-03    0.000e+00   -1.107e-01   -7.215e-01    4.135e-01   -5.121e-01    2.161e-01    6.471e-02\n",
      "  852751598354625976    1.000e-03    0.000e+00   -3.699e-01   -3.870e-01   -6.938e-01    4.641e-01   -3.097e-01   -1.072e+00\n",
      " 4439351437582939974    1.000e-03    0.000e+00    8.722e-02   -2.765e-01    5.035e-02    1.380e-01   -6.355e-02   -1.027e+00\n",
      "14069714258107666919    1.000e-03    0.000e+00    4.138e-01   -7.070e-01    4.868e-01   -2.864e-01   -3.363e-01   -2.419e-01\n",
      " 5159630239232456748    1.000e-03    0.000e+00    6.033e-02    4.395e-01    2.940e-01   -3.665e-01    3.690e-01   -7.551e-01\n",
      " 2819774693252731203    1.000e-03    0.000e+00   -2.516e-01   -3.848e-01   -1.980e-01    2.804e-01   -6.644e-01   -7.682e-01\n",
      "11555257018899222215    1.000e-03    0.000e+00   -6.068e-01   -3.988e-02   -6.934e-01   -2.004e-01   -4.576e-01    1.023e+00\n",
      "15556884576763102788    1.000e-03    0.000e+00   -2.092e-02    7.224e-01    6.620e-01   -4.352e-01   -6.317e-01   -7.187e-02\n",
      "17796455863134129183    1.000e-03    0.000e+00   -1.300e-01   -2.352e-01   -4.241e-01    3.977e-01    3.307e-04    7.961e-01\n",
      "13602935411812676798    1.000e-03    0.000e+00    7.878e-02    2.997e-01    4.032e-02    1.387e+00   -5.224e-01    1.992e-01\n",
      " 5818440595822194084    1.000e-03    0.000e+00    5.316e-01    4.333e-01    3.248e-01   -1.253e-01   -6.079e-02    7.093e-01\n",
      "12829901636356624279    1.000e-03    0.000e+00    1.514e-02   -1.326e-01   -9.538e-02    7.345e-01   -8.205e-01    3.548e-01\n",
      "14376411104756213293    1.000e-03    0.000e+00   -8.701e-02    4.491e-01    3.831e-01    2.496e-01   -2.075e-01   -9.341e-01\n",
      " 3543628489601896416    1.000e-03    0.000e+00   -2.112e-01   -2.209e-01   -6.578e-01   -9.557e-02    5.134e-01   -3.534e-02\n",
      "14979182152668323914    1.000e-03    0.000e+00   -9.570e-01    6.039e-01    2.591e-01    5.533e-01   -1.847e-01    3.550e-01\n",
      " 4220131761007838668    1.000e-03    0.000e+00    2.380e-01   -3.293e-01   -5.302e-01    5.261e-01   -3.443e-01   -1.551e-01\n",
      "12401870883411167879    1.000e-03    0.000e+00    3.776e-01    2.813e-01    6.976e-01   -9.636e-01   -2.772e-01    2.065e-01\n",
      " 3934691486637374827    1.000e-03    0.000e+00    8.016e-01    1.177e-01    8.936e-01   -1.608e-01   -3.971e-01    5.953e-01\n",
      "15516126417517091842    1.000e-03    0.000e+00    8.490e-01    3.752e-01   -1.491e-01    4.033e-01   -3.731e-01    4.309e-01\n",
      " 9534194541299273628    1.000e-03    0.000e+00    6.946e-01    4.943e-01    4.552e-02    3.981e-01    5.809e-01    7.641e-01\n",
      "====================  ===========  ===========  ===========  ===========  ===========  ===========  ===========  ===========\n"
     ]
    },
    {
     "name": "stderr",
     "output_type": "stream",
     "text": [
      "/Users/rieder/Code/amuse/src/amuse/datamodel/particles.py:286: FutureWarning: Conversion of the second argument of issubdtype from `float` to `np.floating` is deprecated. In future, it will be treated as `np.float64 == np.dtype(float).type`.\n",
      "  if numpy.issubdtype(quantity.dtype, numpy.float):\n"
     ]
    }
   ],
   "source": [
    "particles = new_king_model(1000, 3)\n",
    "print(particles)"
   ]
  },
  {
   "cell_type": "markdown",
   "metadata": {},
   "source": [
    "Common properties for a stellar cluster are its  center of mass position, total kinetic energy and potential energy."
   ]
  },
  {
   "cell_type": "code",
   "execution_count": 4,
   "metadata": {},
   "outputs": [
    {
     "name": "stdout",
     "output_type": "stream",
     "text": [
      "center of mass [-7.8062556419e-18, 0.0, -6.93889390391e-18] length\n",
      "kinetic energy 0.253613861612 length**2 * time**-2 * mass\n",
      "potential energy -0.503391406401 length**2 * time**-2 * mass\n"
     ]
    }
   ],
   "source": [
    "print(\"center of mass\", particles.center_of_mass())\n",
    "print(\"kinetic energy\", particles.kinetic_energy())\n",
    "print(\"potential energy\", particles.potential_energy(G = nbody_system.G))"
   ]
  },
  {
   "cell_type": "markdown",
   "metadata": {},
   "source": [
    "For the potential energy calculation we need to specify the gravitational constant, as the default value will use the gavitational constant in S.I. units and we are working in nbody units for this tutorial.\n",
    "\n",
    "In N-body calculations and reporting, the kinetic and potential energy of a set of stars is often scaled to exactly 0.25 and -0.5 respectively. AMUSE also has a function for this."
   ]
  },
  {
   "cell_type": "code",
   "execution_count": 5,
   "metadata": {},
   "outputs": [
    {
     "name": "stdout",
     "output_type": "stream",
     "text": [
      "kinetic energy 0.25 length**2 * time**-2 * mass\n",
      "potential energy -0.5 length**2 * time**-2 * mass\n"
     ]
    }
   ],
   "source": [
    "particles.scale_to_standard()\n",
    "print(\"kinetic energy\", particles.kinetic_energy())\n",
    "print(\"potential energy\", particles.potential_energy(G = nbody_system.G))"
   ]
  },
  {
   "cell_type": "markdown",
   "metadata": {},
   "source": [
    "*Note that the potential energy and scaling calculations are implemented as order N-squared operations*\n",
    "\n",
    "Attributes of particle sets are always 1 dimensional by default, an array with a single value per particle attribute. But for some attributes it is easier to work with a 2d set, an array with multiple values (or an array of values) per particle attribute. For example, the positions of all particles. These attributes are called vector-attributes and are defined as a combination of 2 or more simple attributes. \n",
    "\n",
    "The position attribute combines the values of the `x`, `y` and `z` attributes."
   ]
  },
  {
   "cell_type": "code",
   "execution_count": 6,
   "metadata": {},
   "outputs": [
    {
     "name": "stdout",
     "output_type": "stream",
     "text": [
      "-0.697145382413 length\n",
      "-0.811089903872 length\n",
      "-1.04439489954 length\n",
      "[-0.697145382413, -0.811089903872, -1.04439489954] length\n"
     ]
    }
   ],
   "source": [
    "print(particles[0].x)\n",
    "print(particles[0].y)\n",
    "print(particles[0].z)\n",
    "print(particles[0].position)"
   ]
  },
  {
   "cell_type": "markdown",
   "metadata": {},
   "source": [
    "Other common vector attributes are `velocity` (combination of `vx`,`vy`,`vz`) and `acceleration` (combination of `ax`,`ay`,`az`).\n",
    "\n",
    "You can set the value of a position attribute and the underlying x, y or z attributes will be changed. "
   ]
  },
  {
   "cell_type": "code",
   "execution_count": 7,
   "metadata": {},
   "outputs": [
    {
     "name": "stdout",
     "output_type": "stream",
     "text": [
      "0.0 length\n",
      "0.1 length\n",
      "0.2 length\n"
     ]
    }
   ],
   "source": [
    "particles[0].position = [0, 0.1, 0.2] | nbody_system.length\n",
    "print(particles[0].x)\n",
    "print(particles[0].y)\n",
    "print(particles[0].z)"
   ]
  },
  {
   "cell_type": "markdown",
   "metadata": {},
   "source": [
    "You can set the value of the x, y or z attribute and the position will change (as the position is just a combination of these attributes)."
   ]
  },
  {
   "cell_type": "code",
   "execution_count": 8,
   "metadata": {},
   "outputs": [
    {
     "name": "stdout",
     "output_type": "stream",
     "text": [
      "[0.3, 0.1, 0.2] length\n"
     ]
    }
   ],
   "source": [
    "particles[0].x = 0.3 | nbody_system.length\n",
    "print(particles[0].position)"
   ]
  },
  {
   "cell_type": "markdown",
   "metadata": {},
   "source": [
    "You cannot change an item in the position array and thereby change the x, y, or z positions"
   ]
  },
  {
   "cell_type": "code",
   "execution_count": 9,
   "metadata": {},
   "outputs": [
    {
     "name": "stdout",
     "output_type": "stream",
     "text": [
      "0.3 length\n",
      "[0.3, 0.1, 0.2] length\n"
     ]
    }
   ],
   "source": [
    "particles[0].position[0] = 0.5 | nbody_system.length # this will not change anything in the particles set as the position is a copy\n",
    "print(particles[0].x)\n",
    "print(particles[0].position)"
   ]
  },
  {
   "cell_type": "markdown",
   "metadata": {},
   "source": [
    "You can use the position attribute on the entire set. Let's print the positions of the first 10 particles."
   ]
  },
  {
   "cell_type": "code",
   "execution_count": 10,
   "metadata": {},
   "outputs": [
    {
     "name": "stdout",
     "output_type": "stream",
     "text": [
      "[[0.3, 0.1, 0.2], [-0.16192980401, 0.242192888358, -0.609337864298], [-0.345353468543, 0.0435869644753, 0.696307628153], [1.06411307118, 1.03279896797, -0.0747807403124], [0.264910325225, 0.872165603883, -0.533783347579], [0.157305699399, -0.228433295489, 0.606580812789], [-1.23571515683, -0.261535452729, 0.266109928239], [-0.552614729364, 0.130276728259, -0.760368454879], [0.232129372088, 0.271623802249, 1.18843899364], [-0.0608235745513, -0.303341196542, 0.477802135591]] length\n"
     ]
    }
   ],
   "source": [
    "print(particles.position[0:10])"
   ]
  },
  {
   "cell_type": "markdown",
   "metadata": {},
   "source": [
    "You can also use the position attribute to set values for the entire set"
   ]
  },
  {
   "cell_type": "code",
   "execution_count": 11,
   "metadata": {},
   "outputs": [
    {
     "name": "stdout",
     "output_type": "stream",
     "text": [
      "[[0.1, 0.2, 0.3], [0.1, 0.2, 0.3], [0.1, 0.2, 0.3], [0.1, 0.2, 0.3], [0.1, 0.2, 0.3], [0.1, 0.2, 0.3], [0.1, 0.2, 0.3], [0.1, 0.2, 0.3], [0.1, 0.2, 0.3], [0.1, 0.2, 0.3]] length\n",
      "[0.1, 0.1, 0.1, 0.1, 0.1, 0.1, 0.1, 0.1, 0.1, 0.1] length\n"
     ]
    }
   ],
   "source": [
    "particles.position = [0.1, 0.2, 0.3] | nbody_system.length # set the position of all particles in the set to the same value\n",
    "print(particles.position[0:10])\n",
    "print(particles.x[0:10])"
   ]
  },
  {
   "cell_type": "markdown",
   "metadata": {},
   "source": [
    "Defining a new vector attribute is done by calling the `add_vector_attribute` or `add_global_vector_attribute`. The first call will define the attribute on the particle set and not on any other set. The second call will define the attribute on the particle set and any future sets created in the script. (The second call is used in the amuse framework itself to define the `position`, `velocity` and `acceleration` attributes)"
   ]
  },
  {
   "cell_type": "code",
   "execution_count": 12,
   "metadata": {},
   "outputs": [
    {
     "name": "stdout",
     "output_type": "stream",
     "text": [
      "[0.1, 0.2] length\n"
     ]
    }
   ],
   "source": [
    "particles.add_vector_attribute('position2d', ('x', 'y'))\n",
    "print(particles[0].position2d)"
   ]
  },
  {
   "cell_type": "markdown",
   "metadata": {},
   "source": [
    "If you enter `particles.add_` and press tab you'll notice two other function besides the `add_vector_attribute` function; `add_calculated_attribute` will create an attribute where the values are calculated based on other attributes, `add_function_attribute` will create a function on the set that gets the set and optional function parameters. These function also have global versions (`add_global_...`). The `add_global_function_attribute` call is used in the AMUSE framework to implement the `kinetic_energy` and `potential_energy` functions.\n"
   ]
  },
  {
   "cell_type": "code",
   "execution_count": 13,
   "metadata": {},
   "outputs": [
    {
     "name": "stdout",
     "output_type": "stream",
     "text": [
      "1.0 mass\n"
     ]
    }
   ],
   "source": [
    "particles.add_function_attribute('calculate_total_mass', lambda particles : particles.mass.sum())\n",
    "print(particles.calculate_total_mass())"
   ]
  }
 ],
 "metadata": {
  "kernelspec": {
   "display_name": "Python 2",
   "language": "python",
   "name": "python2"
  },
  "language_info": {
   "codemirror_mode": {
    "name": "ipython",
    "version": 2
   },
   "file_extension": ".py",
   "mimetype": "text/x-python",
   "name": "python",
   "nbconvert_exporter": "python",
   "pygments_lexer": "ipython2",
   "version": "2.7.15"
  }
 },
 "nbformat": 4,
 "nbformat_minor": 1
}
