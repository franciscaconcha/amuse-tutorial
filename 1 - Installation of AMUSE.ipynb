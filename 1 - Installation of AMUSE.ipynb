{
 "cells": [
  {
   "cell_type": "code",
   "execution_count": 1,
   "metadata": {},
   "outputs": [],
   "source": [
    "from IPython.display import HTML\n",
    "import ipywidgets as widgets\n",
    "from ipywidgets import interact, interactive, fixed, interact_manual\n",
    "from IPython.display import display, Markdown, Latex"
   ]
  },
  {
   "cell_type": "code",
   "execution_count": 2,
   "metadata": {},
   "outputs": [],
   "source": [
    "def osdependenttext(OS, MPI):\n",
    "    if OS == \"ubuntu\":\n",
    "        text = prerequisitesForUbuntu(MPI)\n",
    "    elif OS == \"macos\":\n",
    "        text = prerequisitesForMacOS(MPI)\n",
    "    elif OS == \"other\":\n",
    "        text = \"This OS is not supported\"\n",
    "    display(Markdown(text))\n",
    "    return"
   ]
  },
  {
   "cell_type": "code",
   "execution_count": 9,
   "metadata": {},
   "outputs": [],
   "source": [
    "def prerequisitesForUbuntu(MPI):\n",
    "    text = \"\"\"In Ubuntu, use apt-get to install dependencies:  \n",
    "\n",
    "```bash\n",
    "\n",
    "sudo apt-get install build-essential gfortran python-dev \\\\\n",
    "     libgsl0-dev cmake libfftw3-3 libfftw3-dev \\\\\n",
    "     libgmp3-dev libmpfr4 libmpfr-dev \\\\\n",
    "     libhdf5-serial-dev hdf5-tools \\\\\n",
    "     python-nose python-numpy python-setuptools python-docutils \\\\\n",
    "     python-h5py python-setuptools git \\\\\"\"\"\n",
    "    if MPI==\"openmpi\":\n",
    "        text += \"\"\"\n",
    "     libopenmpi-dev openmpi-bin\"\"\"\n",
    "    elif MPI==\"mpich\":\n",
    "        text += \"\"\"\n",
    "     mpich libmpich-dev\"\"\"\n",
    "    \n",
    "    text += \"\"\"\n",
    "sudo easy_install mpi4py \n",
    "```\"\"\"\n",
    "    return text\n",
    "\n",
    "def prerequisitesForMacOS(MPI):\n",
    "    text = \"\"\"In macOS, we use macports to install dependencies. \n",
    "Other methods (e.g. Homebrew) will probably work just as well, but we have not tested these.\n",
    "    \n",
    "In the example below, we use GCC version 6, but other versions will also work.\n",
    "\n",
    "```bash\n",
    "\n",
    "sudo port install gcc6\n",
    "    \n",
    "sudo port install python27\n",
    "sudo port install openmpi-gcc6\n",
    "sudo port install fftw-3 +gcc6\n",
    "sudo port install hdf5 gsl cmake gmp mpfr\n",
    "sudo port install py27-numpy py27-h5py py27-nose py27-docutils \n",
    "sudo port install py27-mpi4py +gcc6\n",
    "sudo port install py27-matplotlib\n",
    "\n",
    "```  \n",
    "\n",
    "To make sure the right MacPorts compilers and python are set as default, do the following:\n",
    "\n",
    "```bash\n",
    "\n",
    "sudo port select --set mpi openmpi-gcc6-fortran\n",
    "sudo port select --set gcc mp-gcc6\n",
    "sudo port select --set python python27\n",
    "sudo port select --set nosetests nosetests27\n",
    "\n",
    "```\n",
    "\n",
    "After installing you will need to configure the code with the following line:\n",
    "\n",
    "```bash\n",
    "\n",
    "./configure --with-fftw=/opt/local\n",
    "```\"\"\"\n",
    "    return text"
   ]
  },
  {
   "cell_type": "code",
   "execution_count": 4,
   "metadata": {
    "scrolled": false
   },
   "outputs": [
    {
     "data": {
      "text/html": [
       "<script>\n",
       "code_show=true; \n",
       "function code_toggle() {\n",
       " if (code_show){\n",
       " $('div.input').hide();\n",
       " } else {\n",
       " $('div.input').show();\n",
       " }\n",
       " code_show = !code_show\n",
       "} \n",
       "$( document ).ready(code_toggle);\n",
       "</script>\n",
       "The raw code for this IPython notebook is by default hidden for easier reading.\n",
       "To toggle on/off the raw code, click <a href=\"javascript:code_toggle()\">here</a>."
      ],
      "text/plain": [
       "<IPython.core.display.HTML object>"
      ]
     },
     "execution_count": 4,
     "metadata": {},
     "output_type": "execute_result"
    }
   ],
   "source": [
    "HTML('''<script>\n",
    "code_show=true; \n",
    "function code_toggle() {\n",
    " if (code_show){\n",
    " $('div.input').hide();\n",
    " } else {\n",
    " $('div.input').show();\n",
    " }\n",
    " code_show = !code_show\n",
    "} \n",
    "$( document ).ready(code_toggle);\n",
    "</script>\n",
    "The raw code for this IPython notebook is by default hidden for easier reading.\n",
    "To toggle on/off the raw code, click <a href=\"javascript:code_toggle()\">here</a>.''')"
   ]
  },
  {
   "cell_type": "markdown",
   "metadata": {},
   "source": [
    "# Installing AMUSE"
   ]
  },
  {
   "cell_type": "markdown",
   "metadata": {},
   "source": [
    "_In this tutorial, we will assume you are using a modern version of either a Linux distribution or macOS._"
   ]
  },
  {
   "cell_type": "markdown",
   "metadata": {},
   "source": [
    "## 1. Installing the prerequisites"
   ]
  },
  {
   "cell_type": "markdown",
   "metadata": {},
   "source": [
    "AMUSE depends on several software packages to run properly. While the core of AMUSE requires only Python and Numpy to run, the interface to community codes is based on MPI, and several of the community codes also have specific requirements. This section documents the installation of these prerequisite codes.\n",
    "\n",
    "Please select your OS and preferred MPI below. If you already have either of these MPI versions (or another) installed, please choose that one. Having multiple MPIs installed can have undesired results."
   ]
  },
  {
   "cell_type": "code",
   "execution_count": 5,
   "metadata": {
    "scrolled": false
   },
   "outputs": [
    {
     "data": {
      "application/vnd.jupyter.widget-view+json": {
       "model_id": "b9e1fc58cf3847bbb15868523f171f61",
       "version_major": 2,
       "version_minor": 0
      },
      "text/html": [
       "<p>Failed to display Jupyter Widget of type <code>interactive</code>.</p>\n",
       "<p>\n",
       "  If you're reading this message in the Jupyter Notebook or JupyterLab Notebook, it may mean\n",
       "  that the widgets JavaScript is still loading. If this message persists, it\n",
       "  likely means that the widgets JavaScript library is either not installed or\n",
       "  not enabled. See the <a href=\"https://ipywidgets.readthedocs.io/en/stable/user_install.html\">Jupyter\n",
       "  Widgets Documentation</a> for setup instructions.\n",
       "</p>\n",
       "<p>\n",
       "  If you're reading this message in another frontend (for example, a static\n",
       "  rendering on GitHub or <a href=\"https://nbviewer.jupyter.org/\">NBViewer</a>),\n",
       "  it may mean that your frontend doesn't currently support widgets.\n",
       "</p>\n"
      ],
      "text/plain": [
       "interactive(children=(Dropdown(description='OS', options={'Ubuntu Linux': 'ubuntu', 'macOS': 'macos', 'Other': 'other'}, value='ubuntu'), Dropdown(description='MPI', options={'OpenMPI': 'openmpi', 'MPICH': 'mpich'}, value='openmpi'), Output()), _dom_classes=('widget-interact',))"
      ]
     },
     "metadata": {},
     "output_type": "display_data"
    }
   ],
   "source": [
    "OSChooserInteractive = interact(\n",
    "    osdependenttext, \n",
    "    OS={'Ubuntu Linux':'ubuntu', 'macOS':'macos', 'Other':'other'},\n",
    "    MPI={'OpenMPI':'openmpi', 'MPICH':'mpich'}\n",
    ")"
   ]
  }
 ],
 "metadata": {
  "kernelspec": {
   "display_name": "Python 3",
   "language": "python",
   "name": "python3"
  },
  "language_info": {
   "codemirror_mode": {
    "name": "ipython",
    "version": 3
   },
   "file_extension": ".py",
   "mimetype": "text/x-python",
   "name": "python",
   "nbconvert_exporter": "python",
   "pygments_lexer": "ipython3",
   "version": "3.6.5"
  }
 },
 "nbformat": 4,
 "nbformat_minor": 2
}
